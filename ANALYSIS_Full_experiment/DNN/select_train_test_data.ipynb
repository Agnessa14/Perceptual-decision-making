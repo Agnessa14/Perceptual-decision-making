{
 "cells": [
  {
   "cell_type": "code",
   "execution_count": null,
   "metadata": {},
   "outputs": [],
   "source": [
    "import numpy as np\n",
    "import os\n",
    "import json\n"
   ]
  },
  {
   "cell_type": "code",
   "execution_count": null,
   "metadata": {},
   "outputs": [],
   "source": [
    "# Training data\n",
    "\n",
    "main_path = '/mnt/raid/ni/agnessa/rcnn-sat/'\n",
    "with open(os.path.join(main_path,'places365_train_standard.json')) as json_file:\n",
    "    all_scenes_train = json.load(json_file)  \n",
    "    \n",
    "subset_scenes_dict_train = {}\n",
    "# classes = [8,52,175,48,81,151]\n",
    "classes = [2,8,15,19,21,25,26,27,31,35,38,45,52,54,64,67,68,71,77,88,91,92,96,103,108,\\\n",
    "           115,120,139,144,146,157,175,208,223,237,267,278,296,307,321,\\\n",
    "           30,36,48,62,73,78,81,94,104,110,111,116,117,118,141,145,150,151,163,167,180,186,190,194,204,\\\n",
    "          205,224,232,234,243,271,279,288,306,309,341,344,350,355,357]\n",
    "\n",
    "num_imgs_class_train = 30\n",
    "\n",
    "for c in classes: \n",
    "    i = 0\n",
    "    for name,label in all_scenes_train.items():\n",
    "        if int(label) == c and i<num_imgs_class_train:\n",
    "            subset_scenes_dict_train[name] = label\n",
    "            i+=1\n",
    "print(subset_scenes_dict_train)\n",
    "\n",
    "subset_train_json_filename = os.path.join(main_path,\\\n",
    "                                          '{}_selected_scenes_places365_train_standard.json'.format(str(num_imgs_class_train*len(classes))))\n",
    "out_file = open(subset_train_json_filename, \"w\")\n",
    "json.dump(subset_scenes_dict_train, out_file, indent = 4, sort_keys = False)\n",
    "out_file.close()\n",
    "            \n"
   ]
  },
  {
   "cell_type": "code",
   "execution_count": null,
   "metadata": {},
   "outputs": [],
   "source": [
    "# Validation data\n",
    "\n",
    "with open(os.path.join(main_path,'places365_minus60scenes.json')) as json_file:\n",
    "    all_scenes_val = json.load(json_file)  \n",
    "    \n",
    "subset_scenes_dict_val = {}\n",
    "\n",
    "num_imgs_class_val = 15\n",
    "\n",
    "for c in classes: \n",
    "    i = 0\n",
    "    for name,label in all_scenes_val.items():\n",
    "        if int(label) == c and i<num_imgs_class_val:\n",
    "            subset_scenes_dict_val[name] = label\n",
    "            i+=1\n",
    "print(subset_scenes_dict_val)\n",
    "\n",
    "subset_val_json_filename = os.path.join(main_path,'{}_selected_scenes_places365_val_standard.json'.format(str(num_imgs_class_val*len(classes))))\n",
    "out_file = open(subset_val_json_filename, \"w\")\n",
    "json.dump(subset_scenes_dict_val, out_file, indent = 4, sort_keys = False)\n",
    "out_file.close()\n",
    "            "
   ]
  },
  {
   "cell_type": "code",
   "execution_count": null,
   "metadata": {},
   "outputs": [],
   "source": []
  }
 ],
 "metadata": {
  "kernelspec": {
   "display_name": "Python 3",
   "language": "python",
   "name": "python3"
  },
  "language_info": {
   "codemirror_mode": {
    "name": "ipython",
    "version": 3
   },
   "file_extension": ".py",
   "mimetype": "text/x-python",
   "name": "python",
   "nbconvert_exporter": "python",
   "pygments_lexer": "ipython3",
   "version": "3.7.4"
  }
 },
 "nbformat": 4,
 "nbformat_minor": 2
}
