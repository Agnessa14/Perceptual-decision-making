{
 "cells": [
  {
   "cell_type": "markdown",
   "metadata": {},
   "source": [
    "# Calculate the correlations for each layer and create input RDMs"
   ]
  },
  {
   "cell_type": "markdown",
   "metadata": {},
   "source": [
    "## Set up the environment"
   ]
  },
  {
   "cell_type": "code",
   "execution_count": null,
   "metadata": {},
   "outputs": [],
   "source": [
    "import numpy as np\n",
    "import os\n",
    "import json\n",
    "import matplotlib.pyplot as plt\n",
    "import seaborn\n",
    "import pandas as pd\n",
    "import scipy "
   ]
  },
  {
   "cell_type": "markdown",
   "metadata": {},
   "source": [
    "## Select the model and layer"
   ]
  },
  {
   "cell_type": "code",
   "execution_count": null,
   "metadata": {},
   "outputs": [],
   "source": [
    "model_type = 'b' #b, bl, b_d\n",
    "model_name='{}_net_scenes'.format(model_type)\n",
    "path_dnn_activ = '/scratch/agnek95/PDM/DATA/'\n",
    "\n",
    "#define variables\n",
    "NR_OF_SAMPLES = 60\n",
    "if model_type=='b' or model_type=='bl':\n",
    "    num_layers=7\n",
    "elif model_type=='b_d':\n",
    "    num_layers=14\n",
    "\n",
    "#define layer names    \n",
    "layer_names = []\n",
    "if model_type=='b' or model_type=='b_d': #feedforward\n",
    "    for layer_idx in range(num_layers):\n",
    "        layer = 'ReLU_Layer_{}'.format(layer_idx)\n",
    "        layer_names.append(layer)\n",
    "elif model_type=='b_l': #rnn\n",
    "    num_timepoints = 8\n",
    "    for layer_idx in range(num_layers):\n",
    "        for timepoint in range(num_timepoints):       \n",
    "            layer_time = 'ReLU_Layer_{}_Time_{}'.format(layer_idx,timepoint)\n",
    "            layer_names.append(layer_time)\n",
    "\n",
    "#define path name\n",
    "if model_type=='b':\n",
    "    path_name='B'\n",
    "    path_rdm='B_net'\n",
    "elif model_type=='b_d':\n",
    "    path_name='B_D'\n",
    "    path_rdm='B_D_net'\n",
    "elif model_type=='bl':\n",
    "    path_name='RNN'\n",
    "    path_rdm='02.11_2_rnn'"
   ]
  },
  {
   "cell_type": "markdown",
   "metadata": {},
   "source": [
    "## Define the correlation function (correlation distance (Pearson) or Euclidean)"
   ]
  },
  {
   "cell_type": "code",
   "execution_count": null,
   "metadata": {},
   "outputs": [],
   "source": [
    "def correlationd_matrix_pearson():\n",
    "    file_name = os.path.join(path_dnn_activ+'{}_ACTIVATIONS/activations/'.format(path_name),'{}_activations.npy'.format(layer_name)) \n",
    "    act = np.load(file_name,mmap_mode='r')\n",
    "    print(np.argwhere(np.isnan(act)))\n",
    "    print(act.shape)\n",
    "    correlationd = 1-np.corrcoef(act)                                \n",
    "    return(correlationd)"
   ]
  },
  {
   "cell_type": "code",
   "execution_count": null,
   "metadata": {},
   "outputs": [],
   "source": [
    "def correlationd_matrix_euclid(): \n",
    "    file_name = os.path.join(path_dnn_activ+'{}_ACTIVATIONS/activations/','{}_activations.npy'.format(path_name,layer_name)) \n",
    "    act = np.load(file_name,mmap_mode='r')\n",
    "    print(np.argwhere(np.isnan(act)))\n",
    "    print(act.shape)\n",
    "    correlationd = np.zeros((NR_OF_SAMPLES,NR_OF_SAMPLES))\n",
    "    correlationd[:] = np.nan\n",
    "    \n",
    "    for i in range(NR_OF_SAMPLES):\n",
    "        for j in range(NR_OF_SAMPLES):  \n",
    "            correlationd[i,j] = scipy.spatial.distance.euclidean(act[i,:],act[j,:])\n",
    "            # print(correlationd[i,j])                                 \n",
    "    return(correlationd)"
   ]
  },
  {
   "cell_type": "markdown",
   "metadata": {},
   "source": [
    "# Create RDM"
   ]
  },
  {
   "cell_type": "code",
   "execution_count": null,
   "metadata": {},
   "outputs": [],
   "source": [
    "corr_type='pearson'\n",
    "\n",
    "for layer_name in layer_names:\n",
    "    print('Calculating the correlations for model: ',model_name,'and layer: ',layer_name)\n",
    "    if corr_type=='pearson':\n",
    "        corr_matrix = correlationd_matrix_pearson()\n",
    "    elif corr_type=='euclid':\n",
    "        corr_matrix = correlationd_matrix_euclid()\n",
    "    save_corr_path = os.path.join('/home/agnek95/SMST/PDM_FULL_EXPERIMENT/RESULTS_AVG/{}/Input_RDM_{}'.format(path_rdm,corr_type), '{}_Input_RDM_{}.npy'.format(layer_name,corr_type))\n",
    "    print(\"Save Input RDM -> {}\".format(save_corr_path))\n",
    "    np.save(save_corr_path, np.array(corr_matrix)) \n"
   ]
  },
  {
   "cell_type": "markdown",
   "metadata": {},
   "source": [
    "# To plot/visualize RDM (Example)"
   ]
  },
  {
   "cell_type": "code",
   "execution_count": null,
   "metadata": {},
   "outputs": [],
   "source": [
    "filename_rdm='/scratch/agnek95/PDM/DATA/RNN_ACTIVATIONS/activations/ReLU_Layer_0_Time_0_activations.npy'\n",
    "rdm_7_8 = np.load(filename_rdm,mmap_mode='r')\n",
    "fig = plt.figure(figsize=(17,13))\n",
    "ax = seaborn.heatmap(rdm_7_8, cmap='rainbow')"
   ]
  },
  {
   "cell_type": "markdown",
   "metadata": {},
   "source": [
    "## In case the load function does not work"
   ]
  },
  {
   "cell_type": "code",
   "execution_count": null,
   "metadata": {},
   "outputs": [],
   "source": [
    "# #If the load function gives an error, do this\n",
    "# np_load_old = np.load # modify the default parameters of np.load\n",
    "# np.load = lambda *a,**k: np_load_old(*a, allow_pickle=True, **k)\n",
    "# activations_shape = np.load(path)\n",
    "# np.load = np_load_old"
   ]
  }
 ],
 "metadata": {
  "kernelspec": {
   "display_name": "Python 3 (ipykernel)",
   "language": "python",
   "name": "python3"
  },
  "language_info": {
   "codemirror_mode": {
    "name": "ipython",
    "version": 3
   },
   "file_extension": ".py",
   "mimetype": "text/x-python",
   "name": "python",
   "nbconvert_exporter": "python",
   "pygments_lexer": "ipython3",
   "version": "3.9.12"
  }
 },
 "nbformat": 4,
 "nbformat_minor": 4
}
